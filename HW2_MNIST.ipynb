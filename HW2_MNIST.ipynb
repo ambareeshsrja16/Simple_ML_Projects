{
 "cells": [
  {
   "cell_type": "code",
   "execution_count": 37,
   "metadata": {},
   "outputs": [],
   "source": [
    "import idx2numpy\n",
    "import numpy as np\n",
    "import copy"
   ]
  },
  {
   "cell_type": "code",
   "execution_count": 30,
   "metadata": {},
   "outputs": [
    {
     "data": {
      "text/plain": [
       "<matplotlib.image.AxesImage at 0x1c9a683dc50>"
      ]
     },
     "execution_count": 30,
     "metadata": {},
     "output_type": "execute_result"
    },
    {
     "data": {
      "image/png": "[encoded data removed]",
      "text/plain": [
       "<Figure size 432x288 with 1 Axes>"
      ]
     },
     "metadata": {
      "needs_background": "light"
     },
     "output_type": "display_data"
    }
   ],
   "source": [
    "from PIL import Image\n",
    "img = Image.fromarray(arr[4])\n",
    "import matplotlib.pyplot as plt\n",
    "\n",
    "arr = idx2numpy.convert_from_file(file)\n",
    "img = arr[4]\n",
    "plt.imshow(img, cmap=\"gray\")"
   ]
  },
  {
   "cell_type": "code",
   "execution_count": 31,
   "metadata": {},
   "outputs": [],
   "source": [
    "train_x = idx2numpy.convert_from_file(\"train-images-idx3-ubyte\")\n",
    "train_y = idx2numpy.convert_from_file(\"train-labels-idx1-ubyte\")"
   ]
  },
  {
   "cell_type": "code",
   "execution_count": 241,
   "metadata": {},
   "outputs": [],
   "source": [
    "test_x = idx2numpy.convert_from_file(\"t10k-images-idx3-ubyte\")\n",
    "test_y = idx2numpy.convert_from_file(\"t10k-labels-idx1-ubyte\")"
   ]
  },
  {
   "cell_type": "code",
   "execution_count": 72,
   "metadata": {},
   "outputs": [],
   "source": [
    "def one_hot_encoding(label, classes = 10):\n",
    "    \"\"\"One hot encode the labels\"\"\"\n",
    "    \n",
    "    assert isinstance(label, np.ndarray)\n",
    "    assert isinstance(classes, int)\n",
    "\n",
    "    one_hot_labels = np.zeros((classes, len(label)))  # 10, 60000\n",
    "    \n",
    "    for n in range(len(label)):\n",
    "        one_hot_labels[label[n], n] = 1\n",
    "        \n",
    "    return one_hot_labels"
   ]
  },
  {
   "cell_type": "code",
   "execution_count": 199,
   "metadata": {},
   "outputs": [],
   "source": [
    "def reverse_one_hot_encoding(one_hot_label, classes = 10):\n",
    "    \"\"\"Reverse the one hot encoding\"\"\"\n",
    "    \n",
    "    assert isinstance(one_hot_label, np.ndarray)\n",
    "    assert isinstance(classes, int)\n",
    "\n",
    "    label = np.argmax(one_hot_label, axis=0)\n",
    "    \n",
    "    return label"
   ]
  },
  {
   "cell_type": "code",
   "execution_count": 141,
   "metadata": {},
   "outputs": [],
   "source": [
    "def softmax(a):\n",
    "    \"\"\"\n",
    "    softmax function\n",
    "    Given an array of (features, examples) returns softmax of array\n",
    "    \"\"\"\n",
    "    assert isinstance(a, np.ndarray)\n",
    "    \n",
    "    a = a - a.max(axis=0) # softmax trick to prevent blowing-up\n",
    "    \n",
    "    Y = np.exp(a)\n",
    "    Y = Y/np.sum(Y, axis=0)\n",
    "    return Y"
   ]
  },
  {
   "cell_type": "code",
   "execution_count": 88,
   "metadata": {},
   "outputs": [],
   "source": [
    "def Error_Calc(label, output):\n",
    "    \"\"\"\n",
    "    Calculate error according to function given below\n",
    "    \"\"\"\n",
    "    \n",
    "    assert isinstance(label, np.ndarray)\n",
    "    assert isinstance(output, np.ndarray)\n",
    "    \n",
    "    assert label.shape == output.shape\n",
    "    \n",
    "    E_w = -1 * np.sum(label*np.log(output))\n",
    "    return E_w"
   ]
  },
  {
   "cell_type": "markdown",
   "metadata": {},
   "source": [
    "<img src=\"Error.PNG\" width=\"200\">"
   ]
  },
  {
   "cell_type": "code",
   "execution_count": 104,
   "metadata": {},
   "outputs": [],
   "source": [
    "def gradient(label, output, X):\n",
    "    \"\"\"\n",
    "    Calculating gradient according to formula given below in pic\n",
    "    returns :   -1* delE_W/delwjk\n",
    "    \n",
    "    \"\"\"\n",
    "    assert all(isinstance(i, np.ndarray) for i in (label, output, X))\n",
    "    \n",
    "    assert label.shape == output.shape\n",
    "    assert label.shape[1] == X.shape[1]\n",
    "    \n",
    "    grad = X @ (label - output).T  # (p*10) (785, 10)\n",
    "    \n",
    "    return grad"
   ]
  },
  {
   "cell_type": "markdown",
   "metadata": {},
   "source": [
    "<img src=\"grad.PNG\" width=\"200\">"
   ]
  },
  {
   "cell_type": "code",
   "execution_count": 219,
   "metadata": {},
   "outputs": [],
   "source": [
    "def train(X, T_label, W, LR= 1e-5, epochs = 1000, PRINT_FLAG= False):\n",
    "    \"\"\"Training using GDescent\"\"\"\n",
    "    \n",
    "    assert isinstance(epochs, int)\n",
    "    assert isinstance(LR, float)\n",
    "    assert all(isinstance(i, np.ndarray) for i in (X, T_label, W))\n",
    "    assert X.shape[1] == T_label.shape[1] \n",
    "    assert X.shape[0] == W.shape[0]\n",
    "    \n",
    "    PRINT_LOG = epochs/100\n",
    "        \n",
    "    loss = [0]*epochs\n",
    "    weights_per_epoch = [0]*epochs\n",
    "    n = T_label.shape[1]\n",
    "    \n",
    "    for epoch in range(epochs):\n",
    "        A = W.T @ X \n",
    "        Y = softmax(A)\n",
    "        \n",
    "        E_w = Error_Calc(T_label, Y)\n",
    "        grad = gradient(T_label, Y, X)\n",
    "        \n",
    "        W = W + LR*grad   # weight update \n",
    "        \n",
    "        # Data collection\n",
    "        loss[epoch] = E_w/n    #Normalized loss\n",
    "        weights_per_epoch[epoch] = W\n",
    "        \n",
    "        if PRINT_FLAG and epoch % PRINT_LOG == 0:\n",
    "            print(loss[epoch])\n",
    "    \n",
    "    return loss, weights_per_epoch"
   ]
  },
  {
   "cell_type": "code",
   "execution_count": 227,
   "metadata": {},
   "outputs": [],
   "source": [
    "def get_prediction(X, W):\n",
    "    \"\"\"Given input and weights, return output \"\"\"\n",
    "    assert isinstance(X, np.ndarray)\n",
    "    assert isinstance(W, np.ndarray)\n",
    "    \n",
    "    A = W.T @ X \n",
    "    Y = softmax(A)\n",
    "    Y = np.argmax(Y, axis=0)\n",
    "    \n",
    "    return Y"
   ]
  },
  {
   "cell_type": "code",
   "execution_count": 248,
   "metadata": {},
   "outputs": [],
   "source": [
    "def calc_perc_error(prediction, label):\n",
    "    \"\"\"Calculate error percentage\"\"\"\n",
    "    \n",
    "    assert isinstance(prediction, np.ndarray)\n",
    "    assert isinstance(prediction, np.ndarray)\n",
    "    assert prediction.shape == label.shape\n",
    "    \n",
    "    perc_error = 1 - np.sum(prediction==label)/ len(prediction)\n",
    "    return perc_error"
   ]
  },
  {
   "cell_type": "code",
   "execution_count": 189,
   "metadata": {},
   "outputs": [
    {
     "data": {
      "text/plain": [
       "((60000, 28, 28), (60000,))"
      ]
     },
     "execution_count": 189,
     "metadata": {},
     "output_type": "execute_result"
    }
   ],
   "source": [
    "train_x.shape, train_y.shape"
   ]
  },
  {
   "cell_type": "code",
   "execution_count": 243,
   "metadata": {},
   "outputs": [],
   "source": [
    "def init_train_network(train_x, train_y):\n",
    "    \"\"\"Initialize network\"\"\"\n",
    "    \n",
    "    features = 28*28 + 1 # extra 1 for bias\n",
    "    units = 10 \n",
    "    W = np.random.normal(0, 1, (features, units))  # Gaussian initialization : 0 mean, unit std deviation  # W (785, 10)\n",
    "\n",
    "    X = copy.deepcopy(train_x).reshape(train_x.shape[0], -1).T\n",
    "    X = X/255.0 # Normalize X\n",
    "    X = np.vstack((X, np.ones(X.shape[1])))   # X (785, 60000)   Last row has been added for bias\n",
    "\n",
    "    T_label = one_hot_encoding(train_y)  #one_hot labels\n",
    "\n",
    "    LR = 1e-5\n",
    "    \n",
    "    return X,T_label,W,LR"
   ]
  },
  {
   "cell_type": "code",
   "execution_count": 253,
   "metadata": {},
   "outputs": [],
   "source": [
    "X,T_label,W,LR = init_train_network(train_x, train_y)"
   ]
  },
  {
   "cell_type": "code",
   "execution_count": 254,
   "metadata": {},
   "outputs": [],
   "source": [
    "loss, weights_per_epoch = train(X, T_label, W, LR= 1e-5, epochs = 1000)"
   ]
  },
  {
   "cell_type": "code",
   "execution_count": 255,
   "metadata": {},
   "outputs": [
    {
     "data": {
      "text/plain": [
       "0.11826666666666663"
      ]
     },
     "execution_count": 255,
     "metadata": {},
     "output_type": "execute_result"
    }
   ],
   "source": [
    "# Check last weight\n",
    "pred = get_prediction(X, weights_per_epoch[-1])\n",
    "calc_perc_error(pred, reverse_one_hot_encoding(T_label))"
   ]
  },
  {
   "cell_type": "code",
   "execution_count": 249,
   "metadata": {},
   "outputs": [],
   "source": [
    "def generate_error_per_epoch_data(X, T_label, weights, fname='Train_error.txt'):\n",
    "    \"\"\"Generate Error per epoch for given weights, X, T_label\"\"\"\n",
    "    with open(fname, 'w') as f:\n",
    "        for epoch in range(len(weights)):\n",
    "            W = weights[epoch]\n",
    "            pred = get_prediction(X, W)\n",
    "            perc_error = calc_perc_error(pred, reverse_one_hot_encoding(T_label))*100\n",
    "            print(f\"Epoch_number: {epoch} Perc_error: {perc_error:.2f}\", file=f)\n",
    "       "
   ]
  },
  {
   "cell_type": "code",
   "execution_count": 256,
   "metadata": {},
   "outputs": [],
   "source": [
    "generate_error_per_epoch_data(X, T_label, weights=weights_per_epoch, fname='Train_error.txt')"
   ]
  },
  {
   "cell_type": "code",
   "execution_count": 257,
   "metadata": {},
   "outputs": [],
   "source": [
    "# Test Error\n",
    "\n",
    "X_val = copy.deepcopy(test_x).reshape(test_x.shape[0], -1).T\n",
    "X_val = X_val/255.0 # Normalize X\n",
    "X_val = np.vstack((X_val, np.ones(X_val.shape[1])))   # X (785, 60000)   Last row has been added for bias\n",
    "\n",
    "T_val_label = one_hot_encoding(test_y)  #one_hot labels"
   ]
  },
  {
   "cell_type": "code",
   "execution_count": 258,
   "metadata": {},
   "outputs": [],
   "source": [
    "generate_error_per_epoch_data(X_val, T_val_label, weights=weights_per_epoch, fname='Test_error.txt')"
   ]
  },
  {
   "cell_type": "code",
   "execution_count": 259,
   "metadata": {},
   "outputs": [],
   "source": [
    "def plot_train_and_val_curves(filename1 = \"Train_error.txt\",\n",
    "                    filename2 = \"Test_error.txt\",\n",
    "                    title = \"Training and Test error curves\", annotation= None, freq = 1):\n",
    "    \"\"\"\n",
    "    filename: model_name+\"/artifacts/loss_curve\"\n",
    "    Plot the Error vs Epoch curve   \n",
    "    freq = 10 : Plotting values for every 10th epoch\n",
    "    \"\"\"\n",
    "    assert isinstance(filename1, str)\n",
    "    assert isinstance(filename2, str)\n",
    "    assert isinstance(title, str)\n",
    "    \n",
    "    import matplotlib.pyplot as plt\n",
    "    import numpy as np\n",
    "    \n",
    "    with open(filename1,\"r\") as f:\n",
    "        data = f.readlines()\n",
    "    \n",
    "    with open(filename2,\"r\") as f:\n",
    "        data_val = f.readlines()\n",
    "    \n",
    "    x = np.zeros(len(data))\n",
    "    y = np.zeros_like(x)\n",
    "    \n",
    "    x_val = np.zeros(len(data_val))\n",
    "    y_val = np.zeros_like(x_val)\n",
    "    \n",
    "    for i, item in enumerate(data):  #item =\"Epoch_number: 0 Error: 16.3756\"\n",
    "        data_elem = item.split()\n",
    "        x[i] = int(data_elem[1])\n",
    "        y[i] = float(data_elem[3])\n",
    "    \n",
    "    for i, item in enumerate(data_val):  #item =\"Epoch_number: 0 Error: 16.3756\"\n",
    "        data_elem = item.split()\n",
    "        x_val[i] = int(data_elem[1])\n",
    "        y_val[i] = float(data_elem[3])\n",
    "    \n",
    "    fig, ax = plt.subplots()\n",
    "    ax.set_title(title)\n",
    "    ax.set_ylabel(\"Perc Error\")\n",
    "    ax.set_xlabel(\"Epochs\")\n",
    "    plt.plot(x[::freq],y[::freq], label= \"Training Error\") #3rd arg for color '-b'\n",
    "    plt.plot(x_val[::freq], y_val[::freq], label = \"Test Error\")\n",
    "    plt.legend(loc='upper right')\n",
    "    \n",
    "    if annotation:\n",
    "        assert isinstance(annotation, str)\n",
    "        plt.annotate(annotation, xy=(0.3, 0.9), xycoords='axes fraction') #Dataset\n",
    "        \n",
    "    plt.show()"
   ]
  },
  {
   "cell_type": "code",
   "execution_count": 260,
   "metadata": {},
   "outputs": [
    {
     "data": {
      "image/png": "[encoded data removed]",
      "text/plain": [
       "<Figure size 432x288 with 1 Axes>"
      ]
     },
     "metadata": {
      "needs_background": "light"
     },
     "output_type": "display_data"
    }
   ],
   "source": [
    "plot_train_and_val_curves()"
   ]
  },
  {
   "cell_type": "code",
   "execution_count": null,
   "metadata": {},
   "outputs": [],
   "source": []
  }
 ],
 "metadata": {
  "kernelspec": {
   "display_name": "Python 3",
   "language": "python",
   "name": "python3"
  },
  "language_info": {
   "codemirror_mode": {
    "name": "ipython",
    "version": 3
   },
   "file_extension": ".py",
   "mimetype": "text/x-python",
   "name": "python",
   "nbconvert_exporter": "python",
   "pygments_lexer": "ipython3",
   "version": "3.7.3"
  }
 },
 "nbformat": 4,
 "nbformat_minor": 2
}
